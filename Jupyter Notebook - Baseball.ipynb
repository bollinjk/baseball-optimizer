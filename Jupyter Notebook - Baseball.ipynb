# Import required libraries
import random
import math
import statistics
import itertools
from concurrent.futures import ThreadPoolExecutor
import threading
import time
from typing import Dict, List, Tuple
import pickle
import os

class Player:
    def __init__(self, name: str, hit_chance: float, hit_probabilities: List[float], current_base: int = 0, is_batting: bool = False):
        self.name = name
        self.hit_chance = hit_chance
        self.hit_probabilities = hit_probabilities  # [single, double, triple, HR]
        self.current_base = current_base
        self.is_batting = is_batting
        
    def __str__(self):
        return f"{self.name}: {self.hit_chance*100:.1f}% hit chance"

class PlayerManager:
    def __init__(self, player_dictionary: Dict):
        self.players = {}
        # Convert dictionary format to Player objects
        for name, stats in player_dictionary.items():
            if name != "Kai" or name not in self.players:  # Skip duplicate Kai
                self.players[name] = Player(
                    name=name,
                    hit_chance=stats[1],
                    hit_probabilities=stats[2],
                    current_base=stats[3],
                    is_batting=(stats[0] == 1)
                )
    
    def display_roster(self):
        print("\nCurrent Roster:")
        print("=" * 70)
        print(f"{'Name':<15} {'Hit Chance':<12} {'Single%':<10} {'Double%':<10} {'Triple%':<10} {'HR%':<10}")
        print("-" * 70)
        for name, player in self.players.items():
            print(f"{name:<15} {player.hit_chance:<12.3f} {player.hit_probabilities[0]:<10.3f} "
                  f"{player.hit_probabilities[1]:<10.3f} {player.hit_probabilities[2]:<10.3f} "
                  f"{player.hit_probabilities[3]:<10.3f}")
    
    def update_players(self):
        while True:
            self.display_roster()
            print("\nWould you like to update any player stats?")
            print("1. Yes")
            print("2. No - Continue to simulation")
            choice = input("Enter choice (1-2): ")
            
            if choice == "2":
                break
            elif choice == "1":
                self.update_player_stats()
    
    def update_player_stats(self):
        print("\nSelect player to update:")
        players = list(self.players.keys())
        for i, name in enumerate(players, 1):
            print(f"{i}. {name}")
        
        try:
            player_choice = int(input(f"Enter player number (1-{len(players)}): "))
            if player_choice < 1 or player_choice > len(players):
                print("Invalid player number")
                return
            
            player_name = players[player_choice-1]
            player = self.players[player_name]
            
            print("\nSelect stat to update:")
            print("1. Hit Chance")
            print("2. Single Percentage")
            print("3. Double Percentage")
            print("4. Triple Percentage")
            print("5. Home Run Percentage")
            
            stat_choice = int(input("Enter stat number (1-5): "))
            if stat_choice < 1 or stat_choice > 5:
                print("Invalid stat number")
                return
                
            new_value = float(input("Enter new value (as decimal, e.g. 0.300): "))
            if new_value < 0 or new_value > 1:
                print("Value must be between 0 and 1")
                return
            
            if stat_choice == 1:
                player.hit_chance = new_value
            else:
                old_value = player.hit_probabilities[stat_choice-2]
                player.hit_probabilities[stat_choice-2] = new_value
                
                # Validate hit probabilities sum to 1
                total = sum(player.hit_probabilities)
                if abs(total - 1.0) > 0.001:
                    print(f"\nWarning: Hit probabilities sum to {total:.3f}")
                    print("They should sum to 1.0. Please adjust accordingly.")
                    # Revert change
                    player.hit_probabilities[stat_choice-2] = old_value
                    
        except ValueError:
            print("Invalid input. Please enter a number.")
            return

class BaseballSimulator:
    def __init__(self, players: Dict[str, Player]):
        self.players = players
        self.metrics = MetricsTracker()
        
    def simulate_game(self, lineup: List[str]) -> Dict:
        game_players = {name: Player(
            name=self.players[name].name,
            hit_chance=self.players[name].hit_chance,
            hit_probabilities=self.players[name].hit_probabilities.copy(),
            current_base=0,
            is_batting=False
        ) for name in lineup}
        
        game_players[lineup[0]].is_batting = True
        sumRuns = 0
        
        for inning in range(1, 7):
            currentOuts = 0
            inningRuns = 0
            
            while currentOuts < 3 and inningRuns < 5:
                current_batter = next(player for player in game_players.values() if player.is_batting)
                
                if random.random() < current_batter.hit_chance:
                    typeOfHit = random.random()
                    cumulative_prob = 0
                    
                    for base in range(4):
                        cumulative_prob += current_batter.hit_probabilities[base]
                        if typeOfHit < cumulative_prob:
                            current_batter.current_base = base + 1
                            break
                    
                    # Handle home run
                    if current_batter.current_base == 4:
                        inningRuns += 1
                        sumRuns += 1
                        current_batter.current_base = 0
                    
                    # Advance runners
                    for runner in game_players.values():
                        if runner.current_base > 0 and runner != current_batter:
                            runner.current_base += current_batter.current_base
                            if runner.current_base >= 4:
                                inningRuns += 1
                                sumRuns += 1
                                runner.current_base = 0
                                if inningRuns >= 5:
                                    break
                    
                    if inningRuns >= 5:
                        break
                else:
                    currentOuts += 1
                
                # Update batting order
                current_idx = lineup.index(current_batter.name)
                next_idx = (current_idx + 1) % len(lineup)
                current_batter.is_batting = False
                game_players[lineup[next_idx]].is_batting = True
            
            # Reset bases after inning
            for player in game_players.values():
                player.current_base = 0
        
        return {
            'runs': sumRuns,
            'metrics': self.metrics.get_game_metrics()
        }

class MetricsTracker:
    def __init__(self):
        self.reset()
    
    def reset(self):
        self.runs_by_inning = [[] for _ in range(6)]
        self.five_run_innings = 0
        self.total_runs = 0
        self.games_played = 0
    
    def update_game_metrics(self, game_result):
        self.total_runs += game_result['runs']
        self.games_played += 1
    
    def get_game_metrics(self):
        if self.games_played == 0:
            return None
        return {
            'avg_runs': self.total_runs / self.games_played,
            'five_run_innings': self.five_run_innings,
            'runs_by_inning': self.runs_by_inning
        }

class LineupOptimizer:
    def __init__(self, players: Dict[str, Player], mode='quick'):
        self.players = players
        self.mode = mode
        self.simulator = BaseballSimulator(players)
        self.best_lineups = []
        self.progress = 0.0
        self.checkpoint_file = 'lineup_optimization.checkpoint'
    
    def optimize(self):
        if self.mode == 'quick':
            return self.quick_optimize()
        else:
            return self.deep_optimize()
    
    def quick_optimize(self):
        games_per_lineup = 10
        sample_size = min(100000, math.factorial(len(self.players)))
        player_names = list(self.players.keys())
        
        best_lineups = []
        total_evaluated = 0
        
        for _ in range(sample_size):
            lineup = list(random.sample(player_names, len(player_names)))
            total_runs = 0
            
            for _ in range(games_per_lineup):
                result = self.simulator.simulate_game(lineup)
                total_runs += result['runs']
            
            avg_runs = total_runs / games_per_lineup
            best_lineups.append((lineup, avg_runs))
            
            total_evaluated += 1
            self.progress = (total_evaluated / sample_size) * 100
            
            if total_evaluated % 1000 == 0:
                self.save_checkpoint(best_lineups)
        
        best_lineups.sort(key=lambda x: x[1], reverse=True)
        return best_lineups[:3]
    
    def deep_optimize(self):
        games_per_lineup = 100
        player_names = list(self.players.keys())
        all_lineups = list(itertools.permutations(player_names))
        total_lineups = len(all_lineups)
        
        best_lineups = []
        total_evaluated = 0
        
        for lineup in all_lineups:
            lineup = list(lineup)
            total_runs = 0
            
            for _ in range(games_per_lineup):
                result = self.simulator.simulate_game(lineup)
                total_runs += result['runs']
            
            avg_runs = total_runs / games_per_lineup
            best_lineups.append((lineup, avg_runs))
            
            total_evaluated += 1
            self.progress = (total_evaluated / total_lineups) * 100
            
            if total_evaluated % 100 == 0:
                self.save_checkpoint(best_lineups)
        
        best_lineups.sort(key=lambda x: x[1], reverse=True)
        return best_lineups[:3]
    
    def save_checkpoint(self, current_best):
        with open(self.checkpoint_file, 'wb') as f:
            pickle.dump({
                'progress': self.progress,
                'best_lineups': current_best[:3],
                'timestamp': time.time()
            }, f)

class ParallelOptimizer:
    def __init__(self, players: Dict[str, Player]):
        self.players = players
        self.quick_results = None
        self.deep_results = None
        self.progress = {'quick': 0.0, 'deep': 0.0}
        self.lock = threading.Lock()
    
    def run_parallel_analysis(self):
        with ThreadPoolExecutor() as executor:
            quick_future = executor.submit(self.run_quick_analysis)
            deep_future = executor.submit(self.run_deep_analysis)
            
            # Start progress monitoring
            progress_thread = threading.Thread(target=self.monitor_progress)
            progress_thread.daemon = True
            progress_thread.start()
            
            return quick_future, deep_future
    
    def run_quick_analysis(self):
        optimizer = LineupOptimizer(self.players, mode='quick')
        self.quick_results = optimizer.optimize()
        return self.quick_results
    
    def run_deep_analysis(self):
        optimizer = LineupOptimizer(self.players, mode='deep')
        self.deep_results = optimizer.optimize()
        return self.deep_results
    
    def monitor_progress(self):
        while True:
            if os.path.exists('lineup_optimization.checkpoint'):
                with open('lineup_optimization.checkpoint', 'rb') as f:
                    checkpoint = pickle.load(f)
                    with self.lock:
                        if 'quick' in checkpoint:
                            self.progress['quick'] = checkpoint['progress']
                        else:
                            self.progress['deep'] = checkpoint['progress']
            
            self.display_progress()
            
            if self.progress['quick'] >= 100 and self.progress['deep'] >= 100:
                break
                
            time.sleep(5)
    
    def display_progress(self):
        print("\033[H\033[J")  # Clear screen
        print(f"Quick Analysis: [{self.progress_bar(self.progress['quick'])}] {self.progress['quick']:.1f}%")
        print(f"Deep Analysis: [{self.progress_bar(self.progress['deep'])}] {self.progress['deep']:.1f}%")
        
        if self.quick_results:
            print("\nPreliminary Results (Quick Analysis):")
            self.display_current_best(self.quick_results)
            
        if self.deep_results:
            print("\nRefined Results (Deep Analysis):")
            self.display_current_best(self.deep_results)
    
    def progress_bar(self, percentage, width=50):
        filled = int(width * percentage / 100)
        return '=' * filled + '-' * (width - filled)
    
    def display_current_best(self, results):
        print("\nTop 3 Lineups:")
        for i, (lineup, avg_runs) in enumerate(results, 1):
            print(f"{i}. Average Runs: {avg_runs:.2f}")
            print(f"   Lineup: {' -> '.join(lineup)}")

# Initialize with current player dictionary
playerDictionary = {"Jeremiah":[1,.9,[.6,.3,.1,0],0],
                   "Calvin":[0,.9,[.6,.3,.1,0],0],
                   "Ty":[0,.4,[.9,.1,0,0],0],
                   "Dean":[0,.6,[.9,.1,0,0],0],
                   "Harrison":[0,.2,[1,0,0,0],0],
                   "Kai":[0,.35,[.6,.3,.1,0],0],
                   "Theo":[0,.25,[.95,.05,0,0],0],
                   "Bob":[0,.80,[.8,.2,0,0],0],
                   "Joe":[0,.47,[1,0,0,0],0],
                   "Matt":[0,.60,[1,0,0,0],0],
                   "Arnold":[0,.50,[1,0,0,0],0]}

def main():
    # Initialize player manager
    manager = PlayerManager(playerDictionary)
    
    # Allow for updates
    manager.update_players()
    
    # Initialize parallel optimizer
    optimizer = ParallelOptimizer(manager.players)
    
    print("\nStarting lineup optimization...")
    quick_future, deep_future = optimizer.run_parallel_analysis()
    
    try:
        # Get quick results
        quick_results = quick_future.result()
        print("\nQuick Analysis Complete!")
        
        # Get deep results
        deep_results = deep_future.result()
        print("\nDeep Analysis Complete!")
        
        return quick_results, deep_results
    
    except KeyboardInterrupt:
        print("\nOptimization interrupted. Saving progress...")
        if os.path.exists('lineup_optimization.checkpoint'):
            with open('lineup_optimization.checkpoint', 'rb') as f:
                checkpoint = pickle.load(f)
                print("\nLast saved results:")
                optimizer.display_current_best(checkpoint['best_lineups'])

if __name__ == "__main__":
    main()
